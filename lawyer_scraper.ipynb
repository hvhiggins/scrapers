{
 "cells": [
  {
   "cell_type": "code",
   "execution_count": 5,
   "id": "ec661490-72ed-4e14-8a02-cab07cf91d46",
   "metadata": {},
   "outputs": [],
   "source": [
    "from selenium import webdriver\n",
    "from selenium.webdriver.support.wait import WebDriverWait \n",
    "\n",
    "from selenium.webdriver.common.by import By\n",
    "from selenium.webdriver.common.keys import Keys\n",
    "import json"
   ]
  },
  {
   "cell_type": "code",
   "execution_count": 2,
   "id": "64066ecb-3a52-49ca-91aa-130c8ddde7c1",
   "metadata": {},
   "outputs": [],
   "source": [
    "url=\"https://portal.ncbar.gov/verification/search.aspx\""
   ]
  },
  {
   "cell_type": "code",
   "execution_count": null,
   "id": "f557e7d1-477a-49a3-bd08-611fccb54329",
   "metadata": {},
   "outputs": [],
   "source": []
  },
  {
   "cell_type": "code",
   "execution_count": 3,
   "id": "9e6c74fd-b7b9-449a-a31a-10222b1dad59",
   "metadata": {},
   "outputs": [],
   "source": [
    "def get_lawyers(start_id, batch_size=10):\n",
    "    lawyers=[]\n",
    "    browser = webdriver.Firefox()\n",
    "    for bar_id in range(start_id, start_id+batch_size):\n",
    "        try:\n",
    "            browser.get(url)\n",
    "            assert 'North Carolina State Bar' in browser.title\n",
    "\n",
    "            elem = WebDriverWait(browser, 2).until(lambda x: x.find_element(By.NAME, 'ctl00$Content$txtLicNum'))  # Find the search box\n",
    "            elem.clear()\n",
    "            elem.send_keys(str(bar_id) + Keys.RETURN)\n",
    "\n",
    "            tabl = WebDriverWait(browser, 2).until(lambda x: x.find_element(By.TAG_NAME, 'tbody'))\n",
    "            link = tabl.find_element(By.TAG_NAME, \"a\")\n",
    "            link.click()\n",
    "\n",
    "            pan = WebDriverWait(browser, 2).until(lambda x: x.find_element(By.CLASS_NAME, 'panel-body'))\n",
    "            keys = [dt.text.strip(':') for dt in pan.find_elements(By.XPATH, \".//dt\")]\n",
    "            vals = [dd.text for dd in pan.find_elements(By.XPATH, \".//dd\")]\n",
    "\n",
    "            lawyer = dict(zip(keys, vals))\n",
    "            del lawyer[''] # cleanup\n",
    "            lawyers.append(lawyer)\n",
    "        except Exception as e:\n",
    "            print(str(bar_id) + \" failed.\")\n",
    "    browser.quit()\n",
    "    with open(f\"nc_lawyers_test_{start_id}-{start_id+batch_size-1}.json\", 'w') as outfile:\n",
    "        json.dump(lawyers, outfile, indent=4)"
   ]
  },
  {
   "cell_type": "code",
   "execution_count": null,
   "id": "529c39cf-dcf4-4635-b5d7-eade14720756",
   "metadata": {},
   "outputs": [],
   "source": []
  },
  {
   "cell_type": "code",
   "execution_count": 4,
   "id": "ca510b63-89be-43ab-90c8-887ce3464c44",
   "metadata": {},
   "outputs": [
    {
     "name": "stdout",
     "output_type": "stream",
     "text": [
      "6 failed.\n",
      "10 failed.\n"
     ]
    }
   ],
   "source": [
    "get_lawyers(1)"
   ]
  },
  {
   "cell_type": "code",
   "execution_count": 67,
   "id": "ec7a6f14-5af1-48a3-bab5-bd24ff5c0758",
   "metadata": {},
   "outputs": [],
   "source": [
    "pan=browser.find_element(By.CLASS_NAME, \"panel-body\")"
   ]
  },
  {
   "cell_type": "code",
   "execution_count": 51,
   "id": "9973d0ca-1227-401d-b88e-a4f6c4e9a1c8",
   "metadata": {},
   "outputs": [],
   "source": [
    "browser.back()"
   ]
  },
  {
   "cell_type": "code",
   "execution_count": 101,
   "id": "036fa491-d6b5-4dca-94e7-253391d3de4a",
   "metadata": {},
   "outputs": [
    {
     "name": "stdout",
     "output_type": "stream",
     "text": [
      "[{'Bar #:': '1000', 'Name:': 'Mr. Comann P. Craver, Jr.', 'Address:': 'Edwards Craver Veach PLLC\\n1001 W. Fourth St.', 'City:': 'Winston Salem', 'State:': 'NC', 'Zip Code:': '27101', 'Work Phone:': '336-607-7310', 'Email:': 'pcraver@edwardscraver.com', 'Status:': 'Active\\nThe lawyer is presently eligible to practice law in North Carolina.', 'Date Admitted:': '08/18/1966', '': '', 'Judicial District:': '31 - Forsyth'}, {'Bar #:': '1001', 'Name:': 'Mr. Samuel Jerome Crow', 'Address:': '4554 Meadowlark Lane', 'City:': 'Boynton Beach', 'State:': 'FL', 'Zip Code:': '33436', 'Work Phone:': '', 'Email:': 'sjc1314@aol.com', 'Status:': 'Inactive\\nThe lawyer has voluntarily petitioned for this status, which renders the lawyer not currently eligible to practice law in North Carolina.', 'Date Admitted:': '11/07/1962', 'Status Date:': '10/26/2018', 'Judicial District:': '', '': ''}, {'Bar #': '1001', 'Name': 'Mr. Samuel Jerome Crow', 'Address': '4554 Meadowlark Lane', 'City': 'Boynton Beach', 'State': 'FL', 'Zip Code': '33436', 'Work Phone': '', 'Email': 'sjc1314@aol.com', 'Status': 'Inactive\\nThe lawyer has voluntarily petitioned for this status, which renders the lawyer not currently eligible to practice law in North Carolina.', 'Date Admitted': '11/07/1962', 'Status Date': '10/26/2018', 'Judicial District': '', '': ''}]\n"
     ]
    }
   ],
   "source": [
    "print(lawyers)"
   ]
  },
  {
   "cell_type": "code",
   "execution_count": 11,
   "id": "bceb608e-660f-4eab-980a-2c1d6402b2b6",
   "metadata": {},
   "outputs": [
    {
     "name": "stdout",
     "output_type": "stream",
     "text": [
      "for 1, loaded 181/1000\n",
      "for 1001, loaded 866/1000\n",
      "for 2001, loaded 811/1000\n",
      "for 3001, loaded 200/1000\n",
      "for 4001, loaded 864/1000\n",
      "for 5001, loaded 803/1000\n",
      "for 6001, loaded 187/1000\n",
      "for 7001, loaded 843/1000\n",
      "for 8001, loaded 968/1000\n",
      "for 9001, loaded 207/1000\n",
      "for 10001, loaded 996/1000\n",
      "for 11001, loaded 195/1000\n",
      "for 12001, loaded 805/1000\n",
      "for 13001, loaded 968/1000\n",
      "for 14001, loaded 456/1000\n",
      "for 15001, loaded 361/1000\n",
      "for 16001, loaded 575/1000\n",
      "no file for 17001\n",
      "for 18001, loaded 654/1000\n",
      "for 19001, loaded 770/1000\n",
      "no file for 20001\n",
      "for 21001, loaded 614/1000\n",
      "for 22001, loaded 677/1000\n",
      "no file for 23001\n",
      "for 24001, loaded 612/1000\n",
      "no file for 25001\n",
      "no file for 26001\n",
      "for 27001, loaded 515/1000\n",
      "no file for 28001\n",
      "no file for 29001\n",
      "no file for 30001\n",
      "no file for 31001\n",
      "no file for 32001\n",
      "no file for 33001\n",
      "no file for 34001\n",
      "no file for 35001\n",
      "no file for 36001\n",
      "no file for 37001\n",
      "no file for 38001\n",
      "no file for 39001\n",
      "no file for 40001\n",
      "no file for 41001\n",
      "no file for 42001\n",
      "no file for 43001\n",
      "no file for 44001\n",
      "no file for 45001\n",
      "no file for 46001\n",
      "no file for 47001\n",
      "no file for 48001\n",
      "no file for 49001\n",
      "no file for 50001\n",
      "no file for 51001\n",
      "no file for 52001\n",
      "no file for 53001\n",
      "no file for 54001\n",
      "no file for 55001\n",
      "no file for 56001\n",
      "no file for 57001\n",
      "no file for 58001\n",
      "14128\n",
      "23\n"
     ]
    }
   ],
   "source": [
    "total=0\n",
    "files=0\n",
    "for i in range(1,58800, 1000):\n",
    "    try:\n",
    "        with open(f\"nc_lawyers/nc_lawyers_test_{i}-{i+999}.json\", 'r') as infile:\n",
    "            loaded_lawyers=json.load(infile)\n",
    "        print(f\"for {i}, loaded {len(loaded_lawyers)}/1000\")\n",
    "        total+=len(loaded_lawyers)\n",
    "        files+=1\n",
    "    except:\n",
    "        print(f\"no file for {i}\")\n",
    "print(total)\n",
    "print(files)"
   ]
  },
  {
   "cell_type": "code",
   "execution_count": null,
   "id": "ea4a20f3-0947-4051-bde3-49a468115f9d",
   "metadata": {},
   "outputs": [],
   "source": []
  }
 ],
 "metadata": {
  "kernelspec": {
   "display_name": "Python 3",
   "language": "python",
   "name": "python3"
  },
  "language_info": {
   "codemirror_mode": {
    "name": "ipython",
    "version": 3
   },
   "file_extension": ".py",
   "mimetype": "text/x-python",
   "name": "python",
   "nbconvert_exporter": "python",
   "pygments_lexer": "ipython3",
   "version": "3.8.8"
  }
 },
 "nbformat": 4,
 "nbformat_minor": 5
}
